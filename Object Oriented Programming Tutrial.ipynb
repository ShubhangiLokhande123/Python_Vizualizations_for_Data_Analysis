{
 "cells": [
  {
   "cell_type": "code",
   "execution_count": 54,
   "id": "e09fc54e",
   "metadata": {},
   "outputs": [],
   "source": [
    "import turtle\n",
    "#using turtle to draw the polygons\n",
    "\n",
    "\n",
    "class Polygon:\n",
    "    def __init__(self, sides, name, size=100, color='black', line_thickness=3):\n",
    "        self.sides = sides\n",
    "        self.name = name\n",
    "        self.size = size\n",
    "        self.color = color\n",
    "        self.line_thickness = line_thickness\n",
    "        self.interior_angles = (self.sides - 2) * 180\n",
    "        self.angle = self.interior_angles / self.sides\n",
    "\n",
    "    def draw(self):\n",
    "        turtle.color(self.color)\n",
    "        turtle.pensize(self.line_thickness)\n",
    "        for i in range(self.sides):\n",
    "            turtle.forward(100)\n",
    "            turtle.right(180 - self.angle)"
   ]
  },
  {
   "cell_type": "code",
   "execution_count": 11,
   "id": "32d98085",
   "metadata": {},
   "outputs": [],
   "source": [
    "square = Polygon(4, \"Square\", color='green', line_thickness=3)\n",
    "penatgon = Polygon(5, \"Pentagon\", color='red', line_thickness=18)\n",
    "hexagon = Polygon(6, \"Hexagon\", color='blue', line_thickness=11)"
   ]
  },
  {
   "cell_type": "code",
   "execution_count": 12,
   "id": "d4c2bfc7",
   "metadata": {},
   "outputs": [
    {
     "name": "stdout",
     "output_type": "stream",
     "text": [
      "4\n",
      "Square\n",
      "360\n",
      "90.0\n"
     ]
    }
   ],
   "source": [
    "print(square.sides)\n",
    "print(square.name)\n",
    "print(square.interior_angles)\n",
    "print(square.angle)"
   ]
  },
  {
   "cell_type": "code",
   "execution_count": 13,
   "id": "58a62439",
   "metadata": {},
   "outputs": [
    {
     "name": "stdout",
     "output_type": "stream",
     "text": [
      "5\n",
      "Pentagon\n",
      "540\n",
      "108.0\n"
     ]
    }
   ],
   "source": [
    "print(penatgon.sides)\n",
    "print(penatgon.name)\n",
    "print(penatgon.interior_angles)\n",
    "print(penatgon.angle)"
   ]
  },
  {
   "cell_type": "code",
   "execution_count": 14,
   "id": "fe726815",
   "metadata": {},
   "outputs": [
    {
     "name": "stdout",
     "output_type": "stream",
     "text": [
      "6\n",
      "Hexagon\n",
      "720\n",
      "120.0\n"
     ]
    }
   ],
   "source": [
    "print(hexagon.sides)\n",
    "print(hexagon.name)\n",
    "print(hexagon.interior_angles)\n",
    "print(hexagon.angle)"
   ]
  },
  {
   "cell_type": "code",
   "execution_count": 17,
   "id": "5f38e17b",
   "metadata": {},
   "outputs": [],
   "source": [
    "hexagon.draw()"
   ]
  },
  {
   "cell_type": "code",
   "execution_count": 19,
   "id": "3218723b",
   "metadata": {},
   "outputs": [],
   "source": [
    "penatgon.draw()"
   ]
  },
  {
   "cell_type": "code",
   "execution_count": 21,
   "id": "c71b3631",
   "metadata": {},
   "outputs": [],
   "source": [
    "square.draw()"
   ]
  },
  {
   "cell_type": "code",
   "execution_count": 62,
   "id": "f6878544",
   "metadata": {},
   "outputs": [],
   "source": [
    "#Inheritance of properties froma parent class using super()\n",
    "class Square(Polygon):\n",
    "    def __init__(self, size=100, color='black', line_thickness=3):\n",
    "        super().__init__(4, 'Square', size, color, line_thickness)\n",
    "\n",
    "    def draw(self):\n",
    "        turtle.begin_fill()\n",
    "        super().draw()\n",
    "        turtle.end_fill()\n",
    "\n",
    "\n",
    "square = Square(color='#666666', size=200)\n",
    "\n",
    "square.draw()\n",
    "\n",
    "turtle.done()"
   ]
  },
  {
   "cell_type": "code",
   "execution_count": 75,
   "id": "86d5e04b",
   "metadata": {},
   "outputs": [
    {
     "data": {
      "image/png": "[encoded data removed]",
      "text/plain": [
       "<Figure size 432x288 with 1 Axes>"
      ]
     },
     "metadata": {
      "needs_background": "light"
     },
     "output_type": "display_data"
    }
   ],
   "source": [
    "#Plotting Points with Classes\n",
    "\n",
    "import matplotlib.pyplot as plt\n",
    "\n",
    "class Point:\n",
    "    def __init__(self, x, y, color=\"red\", size=10):\n",
    "        self.x = x\n",
    "        self.y = y\n",
    "        self.color = color\n",
    "        self.size = size\n",
    "    \n",
    "    def __add__(self, other):\n",
    "        if isinstance(other, Point):\n",
    "            x = self.x + other.x\n",
    "            y = self.y + other.y\n",
    "            return Point(x,y)\n",
    "        else:\n",
    "            x = self.x + other\n",
    "            y = self.y + other\n",
    "            return Point(x,y)\n",
    "\n",
    "    def plot(self):\n",
    "        plt.scatter(self.x, self.y, c=self.color, s=self.size)\n",
    "\n",
    "if __name__ == \"__main__\":\n",
    "    a = Point(1,3)\n",
    "    b = Point(2,4)\n",
    "    c = a + b\n",
    "    c.plot()\n",
    "    plt.show()"
   ]
  }
 ],
 "metadata": {
  "kernelspec": {
   "display_name": "Python 3 (ipykernel)",
   "language": "python",
   "name": "python3"
  },
  "language_info": {
   "codemirror_mode": {
    "name": "ipython",
    "version": 3
   },
   "file_extension": ".py",
   "mimetype": "text/x-python",
   "name": "python",
   "nbconvert_exporter": "python",
   "pygments_lexer": "ipython3",
   "version": "3.9.2"
  }
 },
 "nbformat": 4,
 "nbformat_minor": 5
}
